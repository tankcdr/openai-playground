{
    "cells": [
        {
            "cell_type": "markdown",
            "id": "3630c235-f891-4874-bd0a-5277d4d6aa82",
            "metadata": {},
            "source": [
                "# Inferring\n",
                "In this lesson, you will infer sentiment and topics from product reviews and news articles.\n",
                "\n",
                "## Setup"
            ]
        },
        {
            "cell_type": "code",
            "execution_count": 2,
            "id": "39689e67",
            "metadata": {},
            "outputs": [],
            "source": [
                "import openai\n",
                "import os\n",
                "\n",
                "from dotenv import load_dotenv, find_dotenv\n",
                "_ = load_dotenv(find_dotenv()) # read local .env file\n",
                "\n",
                "openai.api_key  = os.getenv('OPENAI_API_KEY')"
            ]
        },
        {
            "cell_type": "code",
            "execution_count": 3,
            "id": "e82f5577",
            "metadata": {},
            "outputs": [],
            "source": [
                "def get_completion(prompt, model=\"gpt-3.5-turbo\"):\n",
                "    messages = [{\"role\": \"user\", \"content\": prompt}]\n",
                "    response = openai.ChatCompletion.create(\n",
                "        model=model,\n",
                "        messages=messages,\n",
                "        temperature=0, # this is the degree of randomness of the model's output\n",
                "    )\n",
                "    return response.choices[0].message[\"content\"]"
            ]
        },
        {
            "cell_type": "markdown",
            "id": "51d2fdfa-c99f-4750-8574-dba7712cd7f0",
            "metadata": {},
            "source": [
                "## Product review text"
            ]
        },
        {
            "cell_type": "code",
            "execution_count": 4,
            "id": "b0f3b49b",
            "metadata": {},
            "outputs": [],
            "source": [
                "lamp_review = \"\"\"\n",
                "Needed a nice lamp for my bedroom, and this one had \\\n",
                "additional storage and not too high of a price point. \\\n",
                "Got it fast.  The string to our lamp broke during the \\\n",
                "transit and the company happily sent over a new one. \\\n",
                "Came within a few days as well. It was easy to put \\\n",
                "together.  I had a missing part, so I contacted their \\\n",
                "support and they very quickly got me the missing piece! \\\n",
                "Lumina seems to me to be a great company that cares \\\n",
                "about their customers and products!!\n",
                "\"\"\""
            ]
        },
        {
            "cell_type": "markdown",
            "id": "30d6e4bd-3337-45a3-8c99-a734cdd06743",
            "metadata": {},
            "source": [
                "## Sentiment (positive/negative)"
            ]
        },
        {
            "cell_type": "code",
            "execution_count": 5,
            "id": "e3157601",
            "metadata": {},
            "outputs": [
                {
                    "name": "stdout",
                    "output_type": "stream",
                    "text": [
                        "The sentiment of the product review is positive.\n"
                    ]
                }
            ],
            "source": [
                "prompt = f\"\"\"\n",
                "What is the sentiment of the following product review, \n",
                "which is delimited with triple backticks?\n",
                "\n",
                "Review text: '''{lamp_review}'''\n",
                "\"\"\"\n",
                "response = get_completion(prompt)\n",
                "print(response)"
            ]
        },
        {
            "cell_type": "code",
            "execution_count": 6,
            "id": "acf9ca16",
            "metadata": {},
            "outputs": [
                {
                    "name": "stdout",
                    "output_type": "stream",
                    "text": [
                        "positive\n"
                    ]
                }
            ],
            "source": [
                "prompt = f\"\"\"\n",
                "What is the sentiment of the following product review, \n",
                "which is delimited with triple backticks?\n",
                "\n",
                "Give your answer as a single word, either \"positive\" \\\n",
                "or \"negative\".\n",
                "\n",
                "Review text: '''{lamp_review}'''\n",
                "\"\"\"\n",
                "response = get_completion(prompt)\n",
                "print(response)"
            ]
        },
        {
            "cell_type": "code",
            "execution_count": 10,
            "id": "c844ad43",
            "metadata": {},
            "outputs": [],
            "source": [
                "lamp_review2 = \"\"\"\n",
                "Needed a nice lamp for my bedroom, and this one had \\\n",
                "additional storage and not too high of a price point. \\\n",
                "Got it fast.  The string to our lamp broke during the \\\n",
                "transit and the company ignored us. \\\n",
                "I can't believe i spent the money on this product!! \\\n",
                "The customer service was terrible, the quality of the product \\\n",
                "is terrible, i can't see in my bedroom, and i'm left with \\\n",
                "having to go shopping for another lamp. Why can't they stand \\\n",
                "by their products?\n",
                "\"\"\""
            ]
        },
        {
            "cell_type": "code",
            "execution_count": 11,
            "id": "874bebe5",
            "metadata": {},
            "outputs": [
                {
                    "name": "stdout",
                    "output_type": "stream",
                    "text": [
                        "The sentiment of the product review is negative.\n"
                    ]
                }
            ],
            "source": [
                "prompt = f\"\"\"\n",
                "What is the sentiment of the following product review, \n",
                "which is delimited with triple backticks?\n",
                "\n",
                "Review text: '''{lamp_review2}'''\n",
                "\"\"\"\n",
                "response = get_completion(prompt)\n",
                "print(response)"
            ]
        },
        {
            "cell_type": "code",
            "execution_count": 12,
            "id": "fa9fb34a",
            "metadata": {},
            "outputs": [
                {
                    "name": "stdout",
                    "output_type": "stream",
                    "text": [
                        "Yes\n"
                    ]
                }
            ],
            "source": [
                "prompt = f\"\"\"\n",
                "Is the writer of the following review expressing anger?\\\n",
                "The review is delimited with triple backticks. \\\n",
                "Give your answer as either yes or no.\n",
                "\n",
                "Review text: '''{lamp_review2}'''\n",
                "\"\"\"\n",
                "response = get_completion(prompt)\n",
                "print(response)"
            ]
        },
        {
            "cell_type": "markdown",
            "id": "81d2a973-1fa4-4a35-ae35-a2e746c0e91b",
            "metadata": {},
            "source": [
                "## Identify types of emotions"
            ]
        },
        {
            "cell_type": "code",
            "execution_count": 7,
            "id": "8aa7934b",
            "metadata": {},
            "outputs": [
                {
                    "name": "stdout",
                    "output_type": "stream",
                    "text": [
                        "satisfied, pleased, grateful, impressed, happy\n"
                    ]
                }
            ],
            "source": [
                "prompt = f\"\"\"\n",
                "Identify a list of emotions that the writer of the \\\n",
                "following review is expressing. Include no more than \\\n",
                "five items in the list. Format your answer as a list of \\\n",
                "lower-case words separated by commas.\n",
                "\n",
                "Review text: '''{lamp_review}'''\n",
                "\"\"\"\n",
                "response = get_completion(prompt)\n",
                "print(response)"
            ]
        },
        {
            "cell_type": "markdown",
            "id": "a428d093-51c9-461c-b41e-114e80876409",
            "metadata": {},
            "source": [
                "## Identify anger"
            ]
        },
        {
            "cell_type": "code",
            "execution_count": 8,
            "id": "dba1a538",
            "metadata": {},
            "outputs": [
                {
                    "name": "stdout",
                    "output_type": "stream",
                    "text": [
                        "No\n"
                    ]
                }
            ],
            "source": [
                "prompt = f\"\"\"\n",
                "Is the writer of the following review expressing anger?\\\n",
                "The review is delimited with triple backticks. \\\n",
                "Give your answer as either yes or no.\n",
                "\n",
                "Review text: '''{lamp_review}'''\n",
                "\"\"\"\n",
                "response = get_completion(prompt)\n",
                "print(response)"
            ]
        },
        {
            "cell_type": "markdown",
            "id": "936a771e-ca78-4e55-8088-2da6f3820ddc",
            "metadata": {},
            "source": [
                "## Extract product and company name from customer reviews"
            ]
        },
        {
            "cell_type": "code",
            "execution_count": 13,
            "id": "a13bea1b",
            "metadata": {},
            "outputs": [
                {
                    "name": "stdout",
                    "output_type": "stream",
                    "text": [
                        "{\n",
                        "  \"Item\": \"lamp\",\n",
                        "  \"Brand\": \"Lumina\"\n",
                        "}\n"
                    ]
                }
            ],
            "source": [
                "prompt = f\"\"\"\n",
                "Identify the following items from the review text: \n",
                "- Item purchased by reviewer\n",
                "- Company that made the item\n",
                "\n",
                "The review is delimited with triple backticks. \\\n",
                "Format your response as a JSON object with \\\n",
                "\"Item\" and \"Brand\" as the keys. \n",
                "If the information isn't present, use \"unknown\" \\\n",
                "as the value.\n",
                "Make your response as short as possible.\n",
                "  \n",
                "Review text: '''{lamp_review}'''\n",
                "\"\"\"\n",
                "response = get_completion(prompt)\n",
                "print(response)"
            ]
        },
        {
            "cell_type": "markdown",
            "id": "a38880a5-088f-4609-9913-f8fa41fb7ba0",
            "metadata": {},
            "source": [
                "## Doing multiple tasks at once"
            ]
        },
        {
            "cell_type": "code",
            "execution_count": 17,
            "id": "e7dda9e5",
            "metadata": {},
            "outputs": [
                {
                    "name": "stdout",
                    "output_type": "stream",
                    "text": [
                        "{\n",
                        "  \"Sentiment\": \"positive\",\n",
                        "  \"Anger\": false,\n",
                        "  \"Item\": \"lamp\",\n",
                        "  \"Brand\": \"Lumina\"\n",
                        "}\n"
                    ]
                }
            ],
            "source": [
                "prompt = f\"\"\"\n",
                "Identify the following items from the review text: \n",
                "- Sentiment (positive or negative)\n",
                "- Is the reviewer expressing anger? (true or false)\n",
                "- Item purchased by reviewer\n",
                "- Company that made the item\n",
                "\n",
                "The review is delimited with triple backticks. \\\n",
                "Format your response as a JSON object with \\\n",
                "\"Sentiment\", \"Anger\", \"Item\" and \"Brand\" as the keys.\n",
                "If the information isn't present, use \"unknown\" \\\n",
                "as the value.\n",
                "Make your response as short as possible.\n",
                "Format the Anger value as a boolean.\n",
                "\n",
                "Review text: '''{lamp_review}'''\n",
                "\"\"\"\n",
                "response = get_completion(prompt)\n",
                "print(response)\n",
                "\n"
            ]
        },
        {
            "cell_type": "markdown",
            "id": "235fc223-2c89-49ec-ac2d-78a8e74a43ac",
            "metadata": {},
            "source": [
                "## Inferring topics"
            ]
        },
        {
            "cell_type": "code",
            "execution_count": 18,
            "id": "8a74cc3e",
            "metadata": {},
            "outputs": [],
            "source": [
                "story = \"\"\"\n",
                "In a recent survey conducted by the government, \n",
                "public sector employees were asked to rate their level \n",
                "of satisfaction with the department they work at. \n",
                "The results revealed that NASA was the most popular \n",
                "department with a satisfaction rating of 95%.\n",
                "\n",
                "One NASA employee, John Smith, commented on the findings, \n",
                "stating, \"I'm not surprised that NASA came out on top. \n",
                "It's a great place to work with amazing people and \n",
                "incredible opportunities. I'm proud to be a part of \n",
                "such an innovative organization.\"\n",
                "\n",
                "The results were also welcomed by NASA's management team, \n",
                "with Director Tom Johnson stating, \"We are thrilled to \n",
                "hear that our employees are satisfied with their work at NASA. \n",
                "We have a talented and dedicated team who work tirelessly \n",
                "to achieve our goals, and it's fantastic to see that their \n",
                "hard work is paying off.\"\n",
                "\n",
                "The survey also revealed that the \n",
                "Social Security Administration had the lowest satisfaction \n",
                "rating, with only 45% of employees indicating they were \n",
                "satisfied with their job. The government has pledged to \n",
                "address the concerns raised by employees in the survey and \n",
                "work towards improving job satisfaction across all departments.\n",
                "\"\"\""
            ]
        },
        {
            "cell_type": "markdown",
            "id": "a8ea91d6-e841-4ee2-bed9-ca4a36df177f",
            "metadata": {},
            "source": [
                "## Infer 5 topics"
            ]
        },
        {
            "cell_type": "code",
            "execution_count": 19,
            "id": "5c267cbe",
            "metadata": {},
            "outputs": [
                {
                    "name": "stdout",
                    "output_type": "stream",
                    "text": [
                        "1. Government survey\n",
                        "2. Department satisfaction rating\n",
                        "3. NASA\n",
                        "4. Social Security Administration\n",
                        "5. Job satisfaction improvement\n"
                    ]
                }
            ],
            "source": [
                "prompt = f\"\"\"\n",
                "Determine five topics that are being discussed in the \\\n",
                "following text, which is delimited by triple backticks.\n",
                "\n",
                "Make each item one or two words long. \n",
                "\n",
                "Format your response as a list of items separated by commas.\n",
                "\n",
                "Text sample: '''{story}'''\n",
                "\"\"\"\n",
                "response = get_completion(prompt)\n",
                "print(response)"
            ]
        },
        {
            "cell_type": "code",
            "execution_count": 20,
            "id": "f92f90fe",
            "metadata": {},
            "outputs": [
                {
                    "data": {
                        "text/plain": [
                            "['1. Government survey\\n2. Department satisfaction rating\\n3. NASA\\n4. Social Security Administration\\n5. Job satisfaction improvement']"
                        ]
                    },
                    "execution_count": 20,
                    "metadata": {},
                    "output_type": "execute_result"
                }
            ],
            "source": [
                "response.split(sep=',')"
            ]
        },
        {
            "cell_type": "code",
            "execution_count": 21,
            "id": "94b8fa65",
            "metadata": {},
            "outputs": [],
            "source": [
                "topic_list = [\n",
                "    \"nasa\", \"local government\", \"engineering\", \n",
                "    \"employee satisfaction\", \"federal government\"\n",
                "]"
            ]
        },
        {
            "cell_type": "markdown",
            "id": "34be1d2a-1309-4512-841a-b6f67338938b",
            "metadata": {},
            "source": [
                "## Make a news alert for certain topics"
            ]
        },
        {
            "cell_type": "code",
            "execution_count": 25,
            "id": "626c5b8e",
            "metadata": {},
            "outputs": [
                {
                    "name": "stdout",
                    "output_type": "stream",
                    "text": [
                        "{\n",
                        "  \"nasa\": 1,\n",
                        "  \"local government\": 0,\n",
                        "  \"engineering\": 0,\n",
                        "  \"employee satisfaction\": 1,\n",
                        "  \"federal government\": 1\n",
                        "}\n"
                    ]
                }
            ],
            "source": [
                "prompt = f\"\"\"\n",
                "Determine whether each item in the following list of \\\n",
                "topics is a topic in the text below, which\n",
                "is delimited with triple backticks.\n",
                "\n",
                "Give your answer as list with 0 or 1 for each topic.\\\n",
                "\n",
                "List of topics: {\", \".join(topic_list)}\n",
                "\n",
                "Output the results in JSON format, with the topic as the element \\\n",
                "and your answer as the value.\n",
                "\n",
                "Text sample: '''{story}'''\n",
                "\"\"\"\n",
                "response = get_completion(prompt)\n",
                "print(response)"
            ]
        },
        {
            "cell_type": "code",
            "execution_count": 27,
            "id": "902a7c74",
            "metadata": {},
            "outputs": [
                {
                    "name": "stdout",
                    "output_type": "stream",
                    "text": [
                        "ALERT: New NASA story!\n"
                    ]
                }
            ],
            "source": [
                "#topic_dict = {i.split(': ')[0]: int(i.split(': ')[1]) for i in response.split(sep='\\n')}\n",
                "import json\n",
                "jsonData = json.loads(response)\n",
                "if jsonData['nasa'] == 1:\n",
                "    print(\"ALERT: New NASA story!\")"
            ]
        },
        {
            "cell_type": "markdown",
            "id": "f88408ae-469a-4b02-a043-f6b4f0b14bf9",
            "metadata": {},
            "source": [
                "## Try experimenting on your own!"
            ]
        },
        {
            "cell_type": "code",
            "execution_count": 35,
            "id": "1bd3553f",
            "metadata": {},
            "outputs": [
                {
                    "name": "stdout",
                    "output_type": "stream",
                    "text": [
                        "{\n",
                        "  \"summary\": \"SpaceX recently made headlines as it became the second most valuable private company — worth a reported $150 billion — behind only TikTok parent ByteDance. But not all space tech companies have seen the valuation and fundraising success of Elon Musk‘s aviation and aerospace darling.\",\n",
                        "  \"topics\": {\n",
                        "    \"nasa\": 0,\n",
                        "    \"local government\": 0,\n",
                        "    \"engineering\": 0,\n",
                        "    \"employee satisfaction\": 0,\n",
                        "    \"federal government\": 0,\n",
                        "    \"spacex\": 1,\n",
                        "    \"venture\": 0,\n",
                        "    \"funding\": 1,\n",
                        "    \"space\": 1\n",
                        "  }\n",
                        "}\n",
                        "ALERT: New SpaceX Funding story!\n"
                    ]
                }
            ],
            "source": [
                "story = \"\"\"\n",
                "SpaceX recently made headlines as it became the second most valuable private company — worth a reported $150 billion — behind only TikTok parent ByteDance. But not all space tech companies have seen the valuation and fundraising success of Elon Musk‘s aviation and aerospace darling.\n",
                "\n",
                "Funding to VC-backed space tech startups — defined here as space travel, satellite communication and aerospace — has dramatically decreased in the last year-plus, and this year is on pace for the lowest total dollars since 2020, according to Crunchbase data\n",
                "\n",
                "Like most sectors, space tech funding rocketed to the stars in 2021, hitting an all-time high of $12.1 billion in more than 450 deals. The sector only saw about a 25% decline last year, when space tech startups raised $9 billion in just under 400 deals.\n",
                "\n",
                "However, this year has been a different story. With the year more than half over, the sector has witnessed only $2.4 billion of funding in just 172 deals.\n",
                "\n",
                "Big round slowdown\n",
                "One of the main reasons funding has declined is the disappearance of the huge rounds the sector has become so associated with thanks to the likes of SpaceX and Relativity Space.\n",
                "\n",
                "In 2021, space tech startups received 14 rounds of a quarter-billion dollars or more, including Louisville, Colorado-based Sierra Space raising a $1.4 billion round and SpaceX locking up an $850 million round.\n",
                "\n",
                "Last year, the number of those types of rounds dropped to only five, but did include a $1.7 billion raise by SpaceX and Costa Mesa, California-based defense firm Anduril closing a $1.5 billion Series E that valued the company at $8.5 billion.\n",
                "\n",
                "This year, however, no space startup has come that close to such a round. Some of the biggest rounds this year include:\n",
                "\n",
                "In March, Germany-based Isar Aerospace, which helps launch small and medium satellites, raised a Series C of just more than $174 million.\n",
                "In early April, San Francisco-based satellite developer Astranis locked up a $200 million round at a $1.6 billion valuation, per a Bloomberg report. The new deal was led by Andreessen Horowitz and came just before the company launched its first satellite aboard the SpaceX Falcon 9 rocket.\n",
                "In late April, Berthoud, Colorado-based Ursa Major closed on a $100 million investment. BlackRock and Space Capital took part in the funding. The company is developing the next generation of rocket engines with substantially more power. According to a report, Ursa Major was looking to secure the funding at a $400 million pre-money valuation.\n",
                "\n",
                "Of course, big rounds are down in mostly all sectors as VCs and growth firms have pulled back significantly in funding such rounds at big valuations.\n",
                "\n",
                "The numbers do not mean the “Space 2.0” era — the current wave of investment that came after the initial excitement of firms like SpaceX and Rocket Lab being founded — is over.\n",
                "\n",
                "Space tech — like other deep sectors — typically sees the most dramatic pullback from investors in a slowing market as they look for more “sure” bets with a much shorter time horizon to liquidity.\n",
                "\n",
                "The near collapse of the SPAC market also likely has caused investor anxiety, as one avenue for potential exits has been severely limited. It was just a couple of years ago when startups including Google-backed Planet Labs and Spire Global were able to access the public market through such vehicles, but the poor performance of SPACs in general has made that a less than likely option for many companies.\n",
                "\n",
                "However, there is no denying the interest in new launch and propulsion technologies, as well as other opportunities space may hold — think manufacturing or mining. Such markets and the possible return on investment from such space opportunities are likely too much for VCs to resist.\n",
                "\n",
                "While the days of spending like in 2021 may be gone, it is unlikely investors are going to stop looking to go where no man (or woman) has gone before.\n",
                "\"\"\"\n",
                "\n",
                "\n",
                "topic_list = [\n",
                "    \"nasa\", \"local government\", \"engineering\", \n",
                "    \"employee satisfaction\", \"federal government\", \"spacex\",\n",
                "    \"venture\", \"funding\", \"space\", \n",
                "]\n",
                "\n",
                "\n",
                "prompt = f\"\"\"\n",
                "Perform the following actions:\n",
                "1 - Using no more than 3 sentences, summarize the following text delimited with triple backticks.\n",
                "2 -  Determine whether each item in the following list of \\\n",
                "topics is a topic in the text below, which\n",
                "is delimited with triple backticks.\n",
                "\n",
                "Give your answer as list with 0 or 1 for each topic.\\\n",
                "\n",
                "List of topics: {\", \".join(topic_list)}\n",
                "\n",
                "3 - Output the results in JSON format. Use  summary for your output in step 1. \\\n",
                "    Use topics as as a JSON object element containing the list of topics and their values.\n",
                "\n",
                "Your response should only include the JSON.\n",
                "\n",
                "Text sample: '''{story}'''\n",
                "\"\"\"\n",
                "response = get_completion(prompt)\n",
                "print(response)\n",
                "\n",
                "\n",
                "import json\n",
                "jsonData = json.loads(response)\n",
                "if jsonData['topics']['spacex'] == 1 & jsonData['topics']['funding'] == 1:\n",
                "    print(\"ALERT: New SpaceX Funding story!\")\n"
            ]
        }
    ],
    "metadata": {
        "kernelspec": {
            "display_name": "Python 3 (ipykernel)",
            "language": "python",
            "name": "python3"
        },
        "language_info": {
            "codemirror_mode": {
                "name": "ipython",
                "version": 3
            },
            "file_extension": ".py",
            "mimetype": "text/x-python",
            "name": "python",
            "nbconvert_exporter": "python",
            "pygments_lexer": "ipython3",
            "version": "3.11.3"
        }
    },
    "nbformat": 4,
    "nbformat_minor": 5
}
